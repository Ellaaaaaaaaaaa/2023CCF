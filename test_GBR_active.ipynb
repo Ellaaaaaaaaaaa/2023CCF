{
 "cells": [
  {
   "cell_type": "code",
   "execution_count": 2,
   "id": "1c88b0e0",
   "metadata": {},
   "outputs": [],
   "source": [
    "# 导入相关包\n",
    "import matplotlib.pyplot as plt\n",
    "import numpy as np\n",
    "import pandas as pd\n",
    "from pylab import *\n",
    "from matplotlib.ticker import MultipleLocator\n",
    "from sklearn import datasets, ensemble\n",
    "from sklearn.inspection import permutation_importance\n",
    "from sklearn.metrics import mean_squared_error\n",
    "from sklearn.model_selection import train_test_split"
   ]
  },
  {
   "cell_type": "code",
   "execution_count": 3,
   "id": "ed121aff",
   "metadata": {},
   "outputs": [
    {
     "data": {
      "text/html": [
       "<div>\n",
       "<style scoped>\n",
       "    .dataframe tbody tr th:only-of-type {\n",
       "        vertical-align: middle;\n",
       "    }\n",
       "\n",
       "    .dataframe tbody tr th {\n",
       "        vertical-align: top;\n",
       "    }\n",
       "\n",
       "    .dataframe thead th {\n",
       "        text-align: right;\n",
       "    }\n",
       "</style>\n",
       "<table border=\"1\" class=\"dataframe\">\n",
       "  <thead>\n",
       "    <tr style=\"text-align: right;\">\n",
       "      <th></th>\n",
       "      <th>F_1</th>\n",
       "      <th>F_2</th>\n",
       "      <th>F_3</th>\n",
       "      <th>F_4</th>\n",
       "      <th>F_5</th>\n",
       "      <th>F_6</th>\n",
       "      <th>F_7</th>\n",
       "      <th>F_8</th>\n",
       "      <th>F_9</th>\n",
       "      <th>F_10</th>\n",
       "      <th>...</th>\n",
       "      <th>F_26</th>\n",
       "      <th>F_27</th>\n",
       "      <th>F_28</th>\n",
       "      <th>F_29</th>\n",
       "      <th>F_30</th>\n",
       "      <th>F_31</th>\n",
       "      <th>F_32</th>\n",
       "      <th>F_33</th>\n",
       "      <th>F_34</th>\n",
       "      <th>F_35</th>\n",
       "    </tr>\n",
       "  </thead>\n",
       "  <tbody>\n",
       "    <tr>\n",
       "      <th>0</th>\n",
       "      <td>-0.711</td>\n",
       "      <td>-0.696</td>\n",
       "      <td>-0.794</td>\n",
       "      <td>-0.727</td>\n",
       "      <td>-0.747</td>\n",
       "      <td>-0.792</td>\n",
       "      <td>1.539</td>\n",
       "      <td>2.433</td>\n",
       "      <td>-0.136</td>\n",
       "      <td>1.295</td>\n",
       "      <td>...</td>\n",
       "      <td>0.093</td>\n",
       "      <td>0.0</td>\n",
       "      <td>0.073</td>\n",
       "      <td>0.344</td>\n",
       "      <td>0.006</td>\n",
       "      <td>-0.446</td>\n",
       "      <td>-0.502</td>\n",
       "      <td>-0.456</td>\n",
       "      <td>-0.457</td>\n",
       "      <td>-0.830</td>\n",
       "    </tr>\n",
       "    <tr>\n",
       "      <th>1</th>\n",
       "      <td>-0.909</td>\n",
       "      <td>-0.903</td>\n",
       "      <td>-0.947</td>\n",
       "      <td>-0.844</td>\n",
       "      <td>-0.856</td>\n",
       "      <td>-0.908</td>\n",
       "      <td>-0.371</td>\n",
       "      <td>0.990</td>\n",
       "      <td>-0.935</td>\n",
       "      <td>0.479</td>\n",
       "      <td>...</td>\n",
       "      <td>0.098</td>\n",
       "      <td>0.0</td>\n",
       "      <td>0.055</td>\n",
       "      <td>0.298</td>\n",
       "      <td>0.007</td>\n",
       "      <td>-0.523</td>\n",
       "      <td>-0.558</td>\n",
       "      <td>-0.533</td>\n",
       "      <td>0.113</td>\n",
       "      <td>-0.887</td>\n",
       "    </tr>\n",
       "    <tr>\n",
       "      <th>2</th>\n",
       "      <td>-0.920</td>\n",
       "      <td>-0.925</td>\n",
       "      <td>-0.923</td>\n",
       "      <td>-0.852</td>\n",
       "      <td>-0.853</td>\n",
       "      <td>-0.915</td>\n",
       "      <td>-0.334</td>\n",
       "      <td>0.792</td>\n",
       "      <td>-0.532</td>\n",
       "      <td>0.334</td>\n",
       "      <td>...</td>\n",
       "      <td>0.086</td>\n",
       "      <td>0.0</td>\n",
       "      <td>0.067</td>\n",
       "      <td>0.324</td>\n",
       "      <td>0.006</td>\n",
       "      <td>-0.535</td>\n",
       "      <td>-0.564</td>\n",
       "      <td>-0.540</td>\n",
       "      <td>0.367</td>\n",
       "      <td>-1.021</td>\n",
       "    </tr>\n",
       "    <tr>\n",
       "      <th>3</th>\n",
       "      <td>-0.926</td>\n",
       "      <td>-0.931</td>\n",
       "      <td>-0.943</td>\n",
       "      <td>-0.837</td>\n",
       "      <td>-0.850</td>\n",
       "      <td>-0.907</td>\n",
       "      <td>-0.993</td>\n",
       "      <td>-0.006</td>\n",
       "      <td>-0.826</td>\n",
       "      <td>0.391</td>\n",
       "      <td>...</td>\n",
       "      <td>0.091</td>\n",
       "      <td>0.0</td>\n",
       "      <td>0.076</td>\n",
       "      <td>0.276</td>\n",
       "      <td>0.010</td>\n",
       "      <td>-0.534</td>\n",
       "      <td>-0.554</td>\n",
       "      <td>-0.521</td>\n",
       "      <td>0.550</td>\n",
       "      <td>-0.211</td>\n",
       "    </tr>\n",
       "    <tr>\n",
       "      <th>4</th>\n",
       "      <td>-0.750</td>\n",
       "      <td>-0.764</td>\n",
       "      <td>-0.818</td>\n",
       "      <td>-0.749</td>\n",
       "      <td>-0.764</td>\n",
       "      <td>-0.816</td>\n",
       "      <td>1.116</td>\n",
       "      <td>1.447</td>\n",
       "      <td>-0.547</td>\n",
       "      <td>0.939</td>\n",
       "      <td>...</td>\n",
       "      <td>0.099</td>\n",
       "      <td>0.0</td>\n",
       "      <td>0.079</td>\n",
       "      <td>0.328</td>\n",
       "      <td>0.008</td>\n",
       "      <td>-0.468</td>\n",
       "      <td>-0.500</td>\n",
       "      <td>-0.419</td>\n",
       "      <td>-0.236</td>\n",
       "      <td>0.644</td>\n",
       "    </tr>\n",
       "  </tbody>\n",
       "</table>\n",
       "<p>5 rows × 35 columns</p>\n",
       "</div>"
      ],
      "text/plain": [
       "     F_1    F_2    F_3    F_4    F_5    F_6    F_7    F_8    F_9   F_10  ...  \\\n",
       "0 -0.711 -0.696 -0.794 -0.727 -0.747 -0.792  1.539  2.433 -0.136  1.295  ...   \n",
       "1 -0.909 -0.903 -0.947 -0.844 -0.856 -0.908 -0.371  0.990 -0.935  0.479  ...   \n",
       "2 -0.920 -0.925 -0.923 -0.852 -0.853 -0.915 -0.334  0.792 -0.532  0.334  ...   \n",
       "3 -0.926 -0.931 -0.943 -0.837 -0.850 -0.907 -0.993 -0.006 -0.826  0.391  ...   \n",
       "4 -0.750 -0.764 -0.818 -0.749 -0.764 -0.816  1.116  1.447 -0.547  0.939  ...   \n",
       "\n",
       "    F_26  F_27   F_28   F_29   F_30   F_31   F_32   F_33   F_34   F_35  \n",
       "0  0.093   0.0  0.073  0.344  0.006 -0.446 -0.502 -0.456 -0.457 -0.830  \n",
       "1  0.098   0.0  0.055  0.298  0.007 -0.523 -0.558 -0.533  0.113 -0.887  \n",
       "2  0.086   0.0  0.067  0.324  0.006 -0.535 -0.564 -0.540  0.367 -1.021  \n",
       "3  0.091   0.0  0.076  0.276  0.010 -0.534 -0.554 -0.521  0.550 -0.211  \n",
       "4  0.099   0.0  0.079  0.328  0.008 -0.468 -0.500 -0.419 -0.236  0.644  \n",
       "\n",
       "[5 rows x 35 columns]"
      ]
     },
     "execution_count": 3,
     "metadata": {},
     "output_type": "execute_result"
    }
   ],
   "source": [
    "df_bank = pd.read_csv(\"./dataset/train_90.csv\") # 读取文件\n",
    "X=df_bank.iloc[:,2:-2]\n",
    "y=df_bank['active_index']\n",
    "X.head() #显示新的特征集"
   ]
  },
  {
   "cell_type": "code",
   "execution_count": 4,
   "id": "5b0e01e1",
   "metadata": {},
   "outputs": [],
   "source": [
    "# 数据集准备，将数据集分为训练集和测试集\n",
    "X_train, X_test, y_train, y_test = train_test_split(\n",
    "    X, y, test_size=0.1, random_state=1)"
   ]
  },
  {
   "cell_type": "code",
   "execution_count": 9,
   "id": "1d30dfdd",
   "metadata": {},
   "outputs": [
    {
     "data": {
      "text/html": [
       "<style>#sk-container-id-2 {color: black;background-color: white;}#sk-container-id-2 pre{padding: 0;}#sk-container-id-2 div.sk-toggleable {background-color: white;}#sk-container-id-2 label.sk-toggleable__label {cursor: pointer;display: block;width: 100%;margin-bottom: 0;padding: 0.3em;box-sizing: border-box;text-align: center;}#sk-container-id-2 label.sk-toggleable__label-arrow:before {content: \"▸\";float: left;margin-right: 0.25em;color: #696969;}#sk-container-id-2 label.sk-toggleable__label-arrow:hover:before {color: black;}#sk-container-id-2 div.sk-estimator:hover label.sk-toggleable__label-arrow:before {color: black;}#sk-container-id-2 div.sk-toggleable__content {max-height: 0;max-width: 0;overflow: hidden;text-align: left;background-color: #f0f8ff;}#sk-container-id-2 div.sk-toggleable__content pre {margin: 0.2em;color: black;border-radius: 0.25em;background-color: #f0f8ff;}#sk-container-id-2 input.sk-toggleable__control:checked~div.sk-toggleable__content {max-height: 200px;max-width: 100%;overflow: auto;}#sk-container-id-2 input.sk-toggleable__control:checked~label.sk-toggleable__label-arrow:before {content: \"▾\";}#sk-container-id-2 div.sk-estimator input.sk-toggleable__control:checked~label.sk-toggleable__label {background-color: #d4ebff;}#sk-container-id-2 div.sk-label input.sk-toggleable__control:checked~label.sk-toggleable__label {background-color: #d4ebff;}#sk-container-id-2 input.sk-hidden--visually {border: 0;clip: rect(1px 1px 1px 1px);clip: rect(1px, 1px, 1px, 1px);height: 1px;margin: -1px;overflow: hidden;padding: 0;position: absolute;width: 1px;}#sk-container-id-2 div.sk-estimator {font-family: monospace;background-color: #f0f8ff;border: 1px dotted black;border-radius: 0.25em;box-sizing: border-box;margin-bottom: 0.5em;}#sk-container-id-2 div.sk-estimator:hover {background-color: #d4ebff;}#sk-container-id-2 div.sk-parallel-item::after {content: \"\";width: 100%;border-bottom: 1px solid gray;flex-grow: 1;}#sk-container-id-2 div.sk-label:hover label.sk-toggleable__label {background-color: #d4ebff;}#sk-container-id-2 div.sk-serial::before {content: \"\";position: absolute;border-left: 1px solid gray;box-sizing: border-box;top: 0;bottom: 0;left: 50%;z-index: 0;}#sk-container-id-2 div.sk-serial {display: flex;flex-direction: column;align-items: center;background-color: white;padding-right: 0.2em;padding-left: 0.2em;position: relative;}#sk-container-id-2 div.sk-item {position: relative;z-index: 1;}#sk-container-id-2 div.sk-parallel {display: flex;align-items: stretch;justify-content: center;background-color: white;position: relative;}#sk-container-id-2 div.sk-item::before, #sk-container-id-2 div.sk-parallel-item::before {content: \"\";position: absolute;border-left: 1px solid gray;box-sizing: border-box;top: 0;bottom: 0;left: 50%;z-index: -1;}#sk-container-id-2 div.sk-parallel-item {display: flex;flex-direction: column;z-index: 1;position: relative;background-color: white;}#sk-container-id-2 div.sk-parallel-item:first-child::after {align-self: flex-end;width: 50%;}#sk-container-id-2 div.sk-parallel-item:last-child::after {align-self: flex-start;width: 50%;}#sk-container-id-2 div.sk-parallel-item:only-child::after {width: 0;}#sk-container-id-2 div.sk-dashed-wrapped {border: 1px dashed gray;margin: 0 0.4em 0.5em 0.4em;box-sizing: border-box;padding-bottom: 0.4em;background-color: white;}#sk-container-id-2 div.sk-label label {font-family: monospace;font-weight: bold;display: inline-block;line-height: 1.2em;}#sk-container-id-2 div.sk-label-container {text-align: center;}#sk-container-id-2 div.sk-container {/* jupyter's `normalize.less` sets `[hidden] { display: none; }` but bootstrap.min.css set `[hidden] { display: none !important; }` so we also need the `!important` here to be able to override the default hidden behavior on the sphinx rendered scikit-learn.org. See: https://github.com/scikit-learn/scikit-learn/issues/21755 */display: inline-block !important;position: relative;}#sk-container-id-2 div.sk-text-repr-fallback {display: none;}</style><div id=\"sk-container-id-2\" class=\"sk-top-container\"><div class=\"sk-text-repr-fallback\"><pre>GradientBoostingRegressor(max_depth=6, min_samples_split=5)</pre><b>In a Jupyter environment, please rerun this cell to show the HTML representation or trust the notebook. <br />On GitHub, the HTML representation is unable to render, please try loading this page with nbviewer.org.</b></div><div class=\"sk-container\" hidden><div class=\"sk-item\"><div class=\"sk-estimator sk-toggleable\"><input class=\"sk-toggleable__control sk-hidden--visually\" id=\"sk-estimator-id-2\" type=\"checkbox\" checked><label for=\"sk-estimator-id-2\" class=\"sk-toggleable__label sk-toggleable__label-arrow\">GradientBoostingRegressor</label><div class=\"sk-toggleable__content\"><pre>GradientBoostingRegressor(max_depth=6, min_samples_split=5)</pre></div></div></div></div></div>"
      ],
      "text/plain": [
       "GradientBoostingRegressor(max_depth=6, min_samples_split=5)"
      ]
     },
     "execution_count": 9,
     "metadata": {},
     "output_type": "execute_result"
    }
   ],
   "source": [
    "# 定义模型参数进行训练\n",
    "params = {\n",
    "    \"n_estimators\": 100,\n",
    "    \"max_depth\": 6,\n",
    "    \"min_samples_split\": 5,\n",
    "    \"learning_rate\": 0.1,\n",
    "}\n",
    "reg = ensemble.GradientBoostingRegressor(**params)\n",
    "reg.fit(X_train, y_train)"
   ]
  },
  {
   "cell_type": "code",
   "execution_count": 10,
   "id": "c16ded58",
   "metadata": {},
   "outputs": [
    {
     "data": {
      "text/plain": [
       "<matplotlib.legend.Legend at 0x22e581c1400>"
      ]
     },
     "execution_count": 10,
     "metadata": {},
     "output_type": "execute_result"
    },
    {
     "data": {
      "image/png": "[encoded data removed]",
      "text/plain": [
       "<Figure size 640x640 with 1 Axes>"
      ]
     },
     "metadata": {},
     "output_type": "display_data"
    }
   ],
   "source": [
    "# 可视化训练集和测试集数据\n",
    "ytrain_pre = reg.predict(X_train)\n",
    "ytest_pre = reg.predict(X_test)\n",
    "\n",
    "fig,ax = plt.subplots(figsize=(8, 8), dpi= 80)\n",
    "plt.rcParams['font.sans-serif'] = ['Arial'] #字体均为 Arial\n",
    "plt.rcParams['axes.unicode_minus']=False\n",
    "\n",
    "scatter1 = plt.scatter(x=y_train, y=ytrain_pre, s=80, marker='s',c='#FFBCDE' , alpha=0.8, label='train data', linewidths=0.3, edgecolor='#17223b')\n",
    "scatter2 = plt.scatter(x=y_test, y=ytest_pre,s=80, marker='s',c='#00C8F4' ,alpha=0.8, label='test data', linewidths=0.3, edgecolor='#17223b')\n",
    "ax.plot([0,1],[0,1],'--',c='black',alpha=0.3)\n",
    "plt.legend(loc='upper left',fontsize=20, frameon=True ,labelspacing=0.5)"
   ]
  },
  {
   "cell_type": "code",
   "execution_count": 11,
   "id": "8e45b115",
   "metadata": {},
   "outputs": [
    {
     "name": "stderr",
     "output_type": "stream",
     "text": [
      "D:\\anaconda\\envs\\PyTorch\\lib\\site-packages\\sklearn\\utils\\deprecation.py:101: FutureWarning: Attribute `loss_` was deprecated in version 1.1 and will be removed in 1.3.\n",
      "  warnings.warn(msg, category=FutureWarning)\n"
     ]
    },
    {
     "data": {
      "image/png": "[encoded data removed]",
      "text/plain": [
       "<Figure size 500x500 with 1 Axes>"
      ]
     },
     "metadata": {},
     "output_type": "display_data"
    }
   ],
   "source": [
    "# 训练过程可视化\n",
    "test_score = np.zeros((params[\"n_estimators\"],), dtype=np.float64)\n",
    "for i, y_pred in enumerate(reg.staged_predict(X_test)):\n",
    "    test_score[i] = reg.loss_(y_test, y_pred)\n",
    "\n",
    "fig = plt.figure(figsize=(5, 5))\n",
    "plt.subplot(1, 1, 1)\n",
    "plt.title(\"Deviance\")\n",
    "# plt.plot(np.arange(params[\"n_estimators\"]) + 1, reg.train_score_, \"b-\", label=\"Training Set Deviance\", )\n",
    "plt.plot(np.arange(params[\"n_estimators\"]) + 1, test_score, \"r-\", label=\"Test Set Deviance\")\n",
    "plt.legend(loc=\"upper right\")\n",
    "plt.xlabel(\"Boosting Iterations\")\n",
    "plt.ylabel(\"Deviance\")\n",
    "fig.tight_layout()\n",
    "plt.show()"
   ]
  },
  {
   "cell_type": "code",
   "execution_count": 12,
   "id": "63230b7c",
   "metadata": {},
   "outputs": [
    {
     "name": "stdout",
     "output_type": "stream",
     "text": [
      "The mean squared error (MSE) on test set: 0.0337\n",
      "The R^2 on test set: 0.9971\n"
     ]
    }
   ],
   "source": [
    "# 计算MSE和拟合优度R^2\n",
    "train_mse = mean_squared_error(y_train, reg.predict(X_train))\n",
    "test_mse = mean_squared_error(y_test, reg.predict(X_test))\n",
    "train_score = reg.score(X_train,y_train)\n",
    "test_score = reg.score(X_test,y_test)\n",
    "# print(\"The mean squared error (MSE) on train set: {:.4f}\".format(train_mse))\n",
    "print(\"The mean squared error (MSE) on test set: {:.4f}\".format(test_mse))\n",
    "# print(\"The R^2 on train set: {:.4f}\".format(train_score))\n",
    "print(\"The R^2 on test set: {:.4f}\".format(test_score))"
   ]
  },
  {
   "cell_type": "code",
   "execution_count": null,
   "id": "b7bd5d14",
   "metadata": {},
   "outputs": [],
   "source": []
  }
 ],
 "metadata": {
  "kernelspec": {
   "display_name": "Python [conda env:PyTorch]",
   "language": "python",
   "name": "conda-env-PyTorch-py"
  },
  "language_info": {
   "codemirror_mode": {
    "name": "ipython",
    "version": 3
   },
   "file_extension": ".py",
   "mimetype": "text/x-python",
   "name": "python",
   "nbconvert_exporter": "python",
   "pygments_lexer": "ipython3",
   "version": "3.8.16"
  }
 },
 "nbformat": 4,
 "nbformat_minor": 5
}
